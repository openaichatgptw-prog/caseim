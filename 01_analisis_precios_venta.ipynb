{
 "cells": [
  {
   "cell_type": "markdown",
   "id": "8e1853e6",
   "metadata": {},
   "source": [
    "# Proyecto: Análisis de precios de venta\n",
    "**Autor:** Andrés Hernandez  \n",
    "**Fecha:** 02/09/2025  \n",
    "**Descripción:** Este notebook carga los precios de venta desde un archivo Excel, realiza limpieza y genera analisis descriptivos de los datos.\n"
   ]
  },
  {
   "cell_type": "code",
   "execution_count": 5,
   "id": "9906b3c6",
   "metadata": {},
   "outputs": [
    {
     "name": "stdout",
     "output_type": "stream",
     "text": [
      "shape: (5, 30)\n",
      "┌──────────┬───────────┬───────────┬───────────┬───┬───────────┬───────────┬───────────┬───────────┐\n",
      "│ Codigo   ┆ Descripci ┆ UM        ┆ Clasifica ┆ … ┆ NUEVO     ┆ Var. Con  ┆ NUEVO     ┆ Var. Con  │\n",
      "│ ---      ┆ ón        ┆ ---       ┆ ción      ┆   ┆ PRECIO DE ┆ última    ┆ PRECIO DE ┆ última    │\n",
      "│ str      ┆ ---       ┆ str       ┆ ---       ┆   ┆ VENTA     ┆ venta     ┆ VENTA     ┆ venta.1   │\n",
      "│          ┆ str       ┆           ┆ str       ┆   ┆ AEREO     ┆ ---       ┆ COURIER   ┆ ---       │\n",
      "│          ┆           ┆           ┆           ┆   ┆ ---       ┆ f64       ┆ ---       ┆ f64       │\n",
      "│          ┆           ┆           ┆           ┆   ┆ f64       ┆           ┆ f64       ┆           │\n",
      "╞══════════╪═══════════╪═══════════╪═══════════╪═══╪═══════════╪═══════════╪═══════════╪═══════════╡\n",
      "│ 47135805 ┆ TRANSMISI ┆ UND       ┆ AA - ALTA ┆ … ┆ 279.17799 ┆ 0.147323  ┆ 310.19776 ┆ 0.274803  │\n",
      "│          ┆ ON VENTIL ┆           ┆ ROTACION  ┆   ┆ 2         ┆           ┆ 9         ┆           │\n",
      "│          ┆ ADOR      ┆           ┆ - ALTO    ┆   ┆           ┆           ┆           ┆           │\n",
      "│          ┆ VISCOSO…  ┆           ┆ COST…     ┆   ┆           ┆           ┆           ┆           │\n",
      "│ 84146735 ┆ DISCO DE  ┆ UND       ┆ AA - ALTA ┆ … ┆ 310.38942 ┆ 0.782925  ┆ 344.87714 ┆ 0.981028  │\n",
      "│          ┆ TDF 280mm ┆           ┆ ROTACION  ┆   ┆ 9         ┆           ┆ 4         ┆           │\n",
      "│          ┆ …         ┆           ┆ - ALTO    ┆   ┆           ┆           ┆           ┆           │\n",
      "│          ┆           ┆           ┆ COST…     ┆   ┆           ┆           ┆           ┆           │\n",
      "│ 87220475 ┆ DISCO DE  ┆ UND       ┆ AA - ALTA ┆ … ┆ 102.79144 ┆ 0.306283  ┆ 114.21271 ┆ 0.451426  │\n",
      "│          ┆ FRICCION  ┆           ┆ ROTACION  ┆   ┆ 7         ┆           ┆ 8         ┆           │\n",
      "│          ┆ …         ┆           ┆ - ALTO    ┆   ┆           ┆           ┆           ┆           │\n",
      "│          ┆           ┆           ┆ COST…     ┆   ┆           ┆           ┆           ┆           │\n",
      "│ 84475545 ┆ FILTRO DE ┆ UND       ┆ AA - ALTA ┆ … ┆ 42.39578  ┆ 0.689748  ┆ 47.106422 ┆ 0.877498  │\n",
      "│          ┆ ACEITE DE ┆           ┆ ROTACION  ┆   ┆           ┆           ┆           ┆           │\n",
      "│          ┆ MOTOR     ┆           ┆ - ALTO    ┆   ┆           ┆           ┆           ┆           │\n",
      "│          ┆ …         ┆           ┆ COST…     ┆   ┆           ┆           ┆           ┆           │\n",
      "│ 87732506 ┆ CONJUNTO  ┆ UND       ┆ AA - ALTA ┆ … ┆ 1563.7846 ┆ 0.156842  ┆ 1737.5384 ┆ 0.28538   │\n",
      "│          ┆ DE        ┆           ┆ ROTACION  ┆   ┆ 28        ┆           ┆ 75        ┆           │\n",
      "│          ┆ EMBRAGUE  ┆           ┆ - ALTO    ┆   ┆           ┆           ┆           ┆           │\n",
      "│          ┆ …         ┆           ┆ COST…     ┆   ┆           ┆           ┆           ┆           │\n",
      "└──────────┴───────────┴───────────┴───────────┴───┴───────────┴───────────┴───────────┴───────────┘\n"
     ]
    }
   ],
   "source": [
    "import pandas as pd\n",
    "\n",
    "# Ruta corregida\n",
    "ruta = r\"C:\\Users\\andres.hernandez\\OneDrive - IMECOL S.A.S\\Documentos\\03_Python\\Git\\Data para precios de venta con origen.xlsx\"\n",
    "\n",
    "# Omitir las primeras 3 filas, fila 4 será el encabezado\n",
    "df_pandas = pd.read_excel(ruta, skiprows=5)\n",
    "\n",
    "df_pandas.head()\n",
    "\n",
    "import polars as pl\n",
    "\n",
    "# Convertir un DataFrame de pandas a polars\n",
    "df_polars = pl.from_pandas(df_pandas)\n",
    "\n",
    "# Revisar las primeras filas\n",
    "print(df_polars.head())"
   ]
  }
 ],
 "metadata": {
  "kernelspec": {
   "display_name": "myenv",
   "language": "python",
   "name": "python3"
  },
  "language_info": {
   "codemirror_mode": {
    "name": "ipython",
    "version": 3
   },
   "file_extension": ".py",
   "mimetype": "text/x-python",
   "name": "python",
   "nbconvert_exporter": "python",
   "pygments_lexer": "ipython3",
   "version": "3.11.9"
  }
 },
 "nbformat": 4,
 "nbformat_minor": 5
}
